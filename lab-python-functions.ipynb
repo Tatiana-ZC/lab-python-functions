{
 "cells": [
  {
   "cell_type": "markdown",
   "id": "25d7736c-ba17-4aff-b6bb-66eba20fbf4e",
   "metadata": {},
   "source": [
    "# Lab | Functions"
   ]
  },
  {
   "cell_type": "markdown",
   "id": "0c581062-8967-4d93-b06e-62833222f930",
   "metadata": {
    "tags": []
   },
   "source": [
    "## Exercise: Managing Customer Orders with Functions\n",
    "\n",
    "In the previous exercise, you improved the code for managing customer orders by using loops and flow control. Now, let's take it a step further and refactor the code by introducing functions.\n",
    "\n",
    "Follow the steps below to complete the exercise:\n",
    "\n",
    "1. Define a function named `initialize_inventory` that takes `products` as a parameter. Inside the function, implement the code for initializing the inventory dictionary using a loop and user input.\n",
    "\n",
    "2. Define a function named `get_customer_orders` that takes no parameters. Inside the function, implement the code for prompting the user to enter the product names using a loop. The function should return the `customer_orders` set.\n",
    "\n",
    "3. Define a function named `update_inventory` that takes `customer_orders` and `inventory` as parameters. Inside the function, implement the code for updating the inventory dictionary based on the customer orders.\n",
    "\n",
    "4. Define a function named `calculate_order_statistics` that takes `customer_orders` and `products` as parameters. Inside the function, implement the code for calculating the order statistics (total products ordered, and percentage of unique products ordered). The function should return these values.\n",
    "\n",
    "5. Define a function named `print_order_statistics` that takes `order_statistics` as a parameter. Inside the function, implement the code for printing the order statistics.\n",
    "\n",
    "6. Define a function named `print_updated_inventory` that takes `inventory` as a parameter. Inside the function, implement the code for printing the updated inventory.\n",
    "\n",
    "7. Call the functions in the appropriate sequence to execute the program and manage customer orders.\n",
    "\n",
    "Hints for functions:\n",
    "\n",
    "- Consider the input parameters required for each function and their return values.\n",
    "- Utilize function parameters and return values to transfer data between functions.\n",
    "- Test your functions individually to ensure they work correctly.\n",
    "\n",
    "\n"
   ]
  },
  {
   "cell_type": "markdown",
   "id": "036aec3d-0f70-4498-9c7c-dbc97105feaa",
   "metadata": {},
   "source": [
    "1. 2. 3. 4. 5. 6. 7. "
   ]
  },
  {
   "cell_type": "code",
   "execution_count": 177,
   "id": "d68b6d8d-ddcd-47b6-a095-e9196d7b6803",
   "metadata": {},
   "outputs": [],
   "source": [
    "def initialize_inventory(products: list):\n",
    "    \"\"\"\n",
    "    Function: To populate an inventory based on an user input.\n",
    "\n",
    "    Arg:\n",
    "    products [list]: Given list from the online store that sell various products.\n",
    "\n",
    "    Returns:\n",
    "    inventory {dict}: The quantity for each product in products list.\n",
    "    \"\"\"\n",
    "    ...\n",
    "    for each_product in products:\n",
    "        product_quantity = int(input(f\"Inventory for {each_product}: \"))\n",
    "        inventory[each_product] = product_quantity\n",
    "    ...\n",
    "    return inventory\n",
    "\n",
    "# products = [\"t-shirt\", \"mug\", \"hat\", \"book\", \"keychain\"]\n",
    "# initial_inventory = initialize_inventory(products)\n",
    "# updated_inventory = initial_inventory.copy()\n",
    "# print(inventory)"
   ]
  },
  {
   "cell_type": "markdown",
   "id": "19cdbb74-a41f-4f3f-8ea5-9c869bb69a7e",
   "metadata": {},
   "source": [
    "2. Define a function named get_customer_orders that takes no parameters. Inside the function, implement the code for prompting the user to enter the product names using a loop. The function should return the customer_orders set."
   ]
  },
  {
   "cell_type": "code",
   "execution_count": 179,
   "id": "d3c3b8f4-87ef-4072-80fa-ccba5060a9b0",
   "metadata": {},
   "outputs": [],
   "source": [
    "def get_customer_orders():\n",
    "    \"\"\"\n",
    "    Function: To get an order from the customer based on an user input.\n",
    "\n",
    "    Args:\n",
    "    None\n",
    "\n",
    "    Returns:\n",
    "    customer orders {set}: Products from the inventory ordered by an user input. \n",
    "    \"\"\"\n",
    "    ...\n",
    "    ordered_items = \"\"\n",
    "    selected_option = \"\"\n",
    "    customer_orders = set()\n",
    "    ordered_items = input(f\"Choose a product to order from : {products} \")\n",
    "    while ordered_items not in products:\n",
    "        print(f\"Invalid product name.\")\n",
    "        ordered_items = input(f\"Choose a product to order from : {products} \")\n",
    "    customer_orders.add(ordered_items)\n",
    "    selected_option = input(f\"Do you want to add another product? Enter 'yes' or 'no': \")\n",
    "    while selected_option != 'no':\n",
    "        if selected_option == \"yes\":\n",
    "            ordered_items = input(f\"Choose a product to order from : {products} \")\n",
    "            while ordered_items not in products:\n",
    "                print(f\"Invalid product name.\")\n",
    "                ordered_items = input(f\"Choose a product to order from : {products} \")\n",
    "            customer_orders.add(ordered_items)\n",
    "            selected_option = input(f\"Do you want to add another product? Enter 'yes' or 'no': \")\n",
    "        else:\n",
    "            print(f\"Invalid product selection.\")\n",
    "            selected_option = input(f\"Do you want to add another product? Enter 'yes' or 'no': \")\n",
    "    ...\n",
    "    return customer_orders\n",
    "\n",
    "# order = get_customer_orders()\n",
    "# print(order)"
   ]
  },
  {
   "cell_type": "markdown",
   "id": "405ee99f-b5b2-4f7a-8b01-39b5048778d4",
   "metadata": {},
   "source": [
    "3. Define a function named update_inventory that takes customer_orders and inventory as parameters. Inside the function, implement the code for updating the inventory dictionary based on the customer orders."
   ]
  },
  {
   "cell_type": "code",
   "execution_count": 181,
   "id": "b35e319b-7168-4907-b474-c317eb3927c4",
   "metadata": {},
   "outputs": [],
   "source": [
    "def update_inventory(customer_orders: set, inventory: dict):\n",
    "    \"\"\"\n",
    "    Function: To modify the initial inventory substracting the products ordered by the customer (user input).\n",
    "\n",
    "    Args:\n",
    "    customer_orders {set}\n",
    "    inventory {dict}\n",
    "\n",
    "    Returns:\n",
    "    Updated inventory {dict}: New inventory after the order. \n",
    "    \"\"\"\n",
    "    ...\n",
    "    # print(f\" Customer Order = {customer_orders}\")\n",
    "    # print(f\" Initial Inventory = {inventory}\")\n",
    "    for item in customer_orders:\n",
    "        if inventory[item] < 1:\n",
    "            print(f\"Product {item}: Out of Stock\")\n",
    "        else:\n",
    "            inventory[item] -= 1\n",
    "    # print(f\"Updated Inventory = {inventory}\")\n",
    "    updated_inventory = inventory\n",
    "\n",
    "# update_inventory(order, updated_inventory)\n",
    "# print(updated_inventory)"
   ]
  },
  {
   "cell_type": "markdown",
   "id": "13caf39f-4425-4801-abfe-20137c0b918e",
   "metadata": {},
   "source": [
    "4. Define a function named calculate_order_statistics that takes customer_orders and products as parameters. Inside the function, implement the code for calculating the order statistics (total products ordered, and percentage of unique products ordered). The function should return these values."
   ]
  },
  {
   "cell_type": "code",
   "execution_count": 183,
   "id": "1bdd4429-2a95-4da8-9b14-c766e9d69fc9",
   "metadata": {},
   "outputs": [],
   "source": [
    "def calculate_order_statistics(products: list, customer_orders:set):\n",
    "    \"\"\"\n",
    "    Function: To calculate the order statistics based on order elements and products.\n",
    "\n",
    "    Args:\n",
    "    products: [list]\n",
    "    customer_orders: {set}\n",
    "\n",
    "    Returns: \n",
    "    order_status (tuple): Total Products Ordered, Percentage of the Ordered Products. \n",
    "    \"\"\"\n",
    "    total_products_ordered = len(customer_orders)\n",
    "    percentage_ordered_products = round(((total_products_ordered / len(products)) * 100), 2)\n",
    "    order_status = (total_products_ordered, percentage_ordered_products)\n",
    "    return order_status\n",
    "    \n",
    "# order_statistics = calculate_order_statistics(products, order)\n",
    "# print(order_statistics)"
   ]
  },
  {
   "cell_type": "markdown",
   "id": "0c11a754-ca67-4367-ae70-de2d5cc9589e",
   "metadata": {},
   "source": [
    "5. Define a function named print_order_statistics that takes order_statistics as a parameter. Inside the function, implement the code for printing the order statistics."
   ]
  },
  {
   "cell_type": "code",
   "execution_count": 185,
   "id": "c2386409-3e06-4a75-9cda-de630c620082",
   "metadata": {},
   "outputs": [],
   "source": [
    "def print_order_statistics(order_statistics: tuple):\n",
    "    \"\"\"\n",
    "    Function: To print the order statistics based in the customer order following a particular format.\n",
    "\n",
    "    Args:\n",
    "    order_statistics: tuple ()\n",
    "\n",
    "    Returns: \n",
    "    Nothing.  \n",
    "    \"\"\"\n",
    "    print(f\"Order Statistics:\\n\"\n",
    "    f\"Total Products Ordered: {order_statistics[0]}\\n\"\n",
    "    f\"Percentage of Products Ordered: {order_statistics[1]} %\")\n",
    "\n",
    "# print_order_statistics(order_statistics)"
   ]
  },
  {
   "cell_type": "markdown",
   "id": "c7f8f800-1ff8-46f8-883d-26d4e96c04f4",
   "metadata": {},
   "source": [
    "6. Define a function named print_updated_inventory that takes inventory as a parameter. Inside the function, implement the code for printing the updated inventory."
   ]
  },
  {
   "cell_type": "code",
   "execution_count": 165,
   "id": "9b5a573e-dacb-4335-8cc9-083a20540fc6",
   "metadata": {},
   "outputs": [],
   "source": [
    "def print_updated_inventory(inventory: dict):\n",
    "    \"\"\"\n",
    "    Function: To print the updated inventory based in the customer order following a particular format.\n",
    "\n",
    "    Args:\n",
    "    order_statistics: tuple ()\n",
    "\n",
    "    Returns: \n",
    "    Nothing.  \n",
    "    \"\"\"\n",
    "    for key, value in inventory.items():\n",
    "        print(f\"For {key}: {value} items\")\n",
    "\n",
    "# print_updated_inventory(updated_inventory)"
   ]
  },
  {
   "cell_type": "markdown",
   "id": "b53abc8c-a512-4b39-b388-ab472a9c4148",
   "metadata": {},
   "source": [
    "7. Call the functions in the appropriate sequence to execute the program and manage customer orders."
   ]
  },
  {
   "cell_type": "code",
   "execution_count": 167,
   "id": "585f318d-c45a-477f-bb64-56792be916e5",
   "metadata": {},
   "outputs": [
    {
     "name": "stdin",
     "output_type": "stream",
     "text": [
      "For t-shirt enter the inventory:  11\n",
      "For mug enter the inventory:  9\n",
      "For hat enter the inventory:  7\n",
      "For book enter the inventory:  5\n",
      "For keychain enter the inventory:  3\n"
     ]
    },
    {
     "name": "stdout",
     "output_type": "stream",
     "text": [
      "\n",
      "\n"
     ]
    },
    {
     "name": "stdin",
     "output_type": "stream",
     "text": [
      "Choose a product to order from : ['t-shirt', 'mug', 'hat', 'book', 'keychain']  t-shirt\n",
      "Do you want to add another product? Enter 'yes' or 'no':  yes\n",
      "Choose a product to order from : ['t-shirt', 'mug', 'hat', 'book', 'keychain']  mug\n",
      "Do you want to add another product? Enter 'yes' or 'no':  yes\n",
      "Choose a product to order from : ['t-shirt', 'mug', 'hat', 'book', 'keychain']  book\n",
      "Do you want to add another product? Enter 'yes' or 'no':  no\n"
     ]
    },
    {
     "name": "stdout",
     "output_type": "stream",
     "text": [
      "\n",
      "\n",
      "Order Statistics:\n",
      "Total Products Ordered: 3\n",
      "Percentage of Products Ordered: 60.0 %\n",
      "\n",
      "\n",
      "For t-shirt: 10 items\n",
      "For mug: 8 items\n",
      "For hat: 7 items\n",
      "For book: 4 items\n",
      "For keychain: 3 items\n"
     ]
    }
   ],
   "source": [
    "products = [\"t-shirt\", \"mug\", \"hat\", \"book\", \"keychain\"]\n",
    "initial_inventory = initialize_inventory(products)\n",
    "updated_inventory = initial_inventory.copy()\n",
    "print(\"\\n\")\n",
    "order = get_customer_orders()\n",
    "update_inventory(order, updated_inventory)\n",
    "order_statistics = calculate_order_statistics(products, order)\n",
    "print(\"\\n\")\n",
    "print_order_statistics(order_statistics)\n",
    "print(\"\\n\")\n",
    "print_updated_inventory(updated_inventory)"
   ]
  },
  {
   "cell_type": "code",
   "execution_count": null,
   "id": "0c9cc529-4caf-4775-b4ca-430e3d0b909d",
   "metadata": {},
   "outputs": [],
   "source": []
  }
 ],
 "metadata": {
  "kernelspec": {
   "display_name": "Python 3 (ipykernel)",
   "language": "python",
   "name": "python3"
  },
  "language_info": {
   "codemirror_mode": {
    "name": "ipython",
    "version": 3
   },
   "file_extension": ".py",
   "mimetype": "text/x-python",
   "name": "python",
   "nbconvert_exporter": "python",
   "pygments_lexer": "ipython3",
   "version": "3.11.7"
  }
 },
 "nbformat": 4,
 "nbformat_minor": 5
}
